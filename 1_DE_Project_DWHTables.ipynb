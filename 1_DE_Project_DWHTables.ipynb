{
 "cells": [
  {
   "cell_type": "markdown",
   "id": "278abcca",
   "metadata": {},
   "source": [
    "# Data Engineering Project \n",
    "## From Pandas DataFrame to DWH Staging Tables\n",
    "\n",
    "**Authors**: \n",
    "- Dmitri Rozgonjuk\n",
    "- Eerik Sven Puudist\n",
    "- Lisanne Siniväli\n",
    "- Cheng-Han Chung\n",
    "\n",
    "\n",
    "The aim of this script is to convert the cleaned `pandas` dataframe to DWH fact and dimensions tables."
   ]
  },
  {
   "cell_type": "markdown",
   "id": "a8c40f07",
   "metadata": {},
   "source": [
    "First, we install and import the necessary libraries from one cell (to avoid having libraries in some individual cells below). The packages and their versions to be installed will later be added to the `requirements.txt` file.\n",
    "\n",
    "We also use this section to set global environment parameters."
   ]
  },
  {
   "cell_type": "code",
   "execution_count": 1,
   "id": "83fdb79e",
   "metadata": {},
   "outputs": [],
   "source": [
    "########### Library Installations ##############\n",
    "# !pip install opendatasets # install the library for downloading the data set\n",
    "# ! pip install habanero\n",
    "\n",
    "################################################\n",
    "### Specific-purpose libraries\n",
    "from habanero import Crossref # CrossRef API\n",
    "\n",
    "################### Imports ####################\n",
    "### Data wrangling\n",
    "import numpy as np # general mathematical and algebraic operations\n",
    "import pandas as pd # working with dataframes\n",
    "\n",
    "### Specific-purpose libraries\n",
    "\n",
    "### Misc\n",
    "import warnings \n",
    "\n",
    "########## SETTING ENV PARAMETERS ################\n",
    "warnings.filterwarnings('ignore') # disable warnings"
   ]
  },
  {
   "cell_type": "markdown",
   "id": "64d16ef7",
   "metadata": {},
   "source": [
    "## 1. Data import\n",
    "Here, we import the cleaned data and explore its dimensions."
   ]
  },
  {
   "cell_type": "code",
   "execution_count": 2,
   "id": "cc515a0c",
   "metadata": {
    "scrolled": true
   },
   "outputs": [
    {
     "name": "stdout",
     "output_type": "stream",
     "text": [
      "Dataframe dimensions: (1077226, 7)\n",
      "Memory usage of raw pandas df: 0.6910948613658547 GB.\n"
     ]
    },
    {
     "data": {
      "text/html": [
       "<div>\n",
       "<style scoped>\n",
       "    .dataframe tbody tr th:only-of-type {\n",
       "        vertical-align: middle;\n",
       "    }\n",
       "\n",
       "    .dataframe tbody tr th {\n",
       "        vertical-align: top;\n",
       "    }\n",
       "\n",
       "    .dataframe thead th {\n",
       "        text-align: right;\n",
       "    }\n",
       "</style>\n",
       "<table border=\"1\" class=\"dataframe\">\n",
       "  <thead>\n",
       "    <tr style=\"text-align: right;\">\n",
       "      <th></th>\n",
       "      <th>id</th>\n",
       "      <th>authors</th>\n",
       "      <th>title</th>\n",
       "      <th>doi</th>\n",
       "      <th>categories</th>\n",
       "      <th>update_date</th>\n",
       "      <th>authors_parsed</th>\n",
       "    </tr>\n",
       "  </thead>\n",
       "  <tbody>\n",
       "    <tr>\n",
       "      <th>0</th>\n",
       "      <td>0704.0001</td>\n",
       "      <td>C. Bal\\'azs, E. L. Berger, P. M. Nadolsky, C.-...</td>\n",
       "      <td>Calculation of prompt diphoton production cros...</td>\n",
       "      <td>10.1103/PhysRevD.76.013009</td>\n",
       "      <td>hep-ph</td>\n",
       "      <td>2008-11-26</td>\n",
       "      <td>[[Balázs, C., ], [Berger, E. L., ], [Nadolsky,...</td>\n",
       "    </tr>\n",
       "    <tr>\n",
       "      <th>1</th>\n",
       "      <td>0704.0006</td>\n",
       "      <td>Y. H. Pong and C. K. Law</td>\n",
       "      <td>Bosonic characters of atomic Cooper pairs acro...</td>\n",
       "      <td>10.1103/PhysRevA.75.043613</td>\n",
       "      <td>cond-mat.mes-hall</td>\n",
       "      <td>2015-05-13</td>\n",
       "      <td>[[Pong, Y. H., ], [Law, C. K., ]]</td>\n",
       "    </tr>\n",
       "  </tbody>\n",
       "</table>\n",
       "</div>"
      ],
      "text/plain": [
       "          id                                            authors  \\\n",
       "0  0704.0001  C. Bal\\'azs, E. L. Berger, P. M. Nadolsky, C.-...   \n",
       "1  0704.0006                           Y. H. Pong and C. K. Law   \n",
       "\n",
       "                                               title  \\\n",
       "0  Calculation of prompt diphoton production cros...   \n",
       "1  Bosonic characters of atomic Cooper pairs acro...   \n",
       "\n",
       "                          doi         categories update_date  \\\n",
       "0  10.1103/PhysRevD.76.013009             hep-ph  2008-11-26   \n",
       "1  10.1103/PhysRevA.75.043613  cond-mat.mes-hall  2015-05-13   \n",
       "\n",
       "                                      authors_parsed  \n",
       "0  [[Balázs, C., ], [Berger, E. L., ], [Nadolsky,...  \n",
       "1                  [[Pong, Y. H., ], [Law, C. K., ]]  "
      ]
     },
     "execution_count": 2,
     "metadata": {},
     "output_type": "execute_result"
    }
   ],
   "source": [
    "df = pd.read_feather('df_clean.feather')\n",
    "print(f'Dataframe dimensions: {df.shape}')\n",
    "print(f'Memory usage of raw pandas df: {df.memory_usage(deep = True).sum()/1024/1024/1024} GB.')\n",
    "df.head(2)"
   ]
  },
  {
   "cell_type": "markdown",
   "id": "95e830f3",
   "metadata": {},
   "source": [
    "## 2. Fact and Dimension tables for Data Warehouse (DWH)\n",
    "\n",
    "Here, we create the tables with placeholder columns.\n",
    "\n",
    "**Fact table** <br>\n",
    "- `articles`: contains the information about all unique publications and links the dimension tables. The columns are:\n",
    "    - PK `article_id`: VARCHAR article id (allows to retrieve this id from the original, raw df)\n",
    "    - `title`: VARCHAR article title\n",
    "    - `doi`: VARCHAR article DOI\n",
    "    - `journal_id`:VARCHAR journal ID based on ISSN\n",
    "    - `date`: DATE\n",
    "    - `authors_ids`: LIST list of author ids.\n",
    "    - `n_cites`: INT the number of citations (FACT)\n",
    "    - `n_authors`: INT the number of co-authors\n",
    "\n",
    "**Dimension tables** <br>\n",
    "- `authors`: includes all individual authors of publications.\n",
    "    - PK `author_id`: BIGNIT(??)\n",
    "    - `lastname`: VARCHAR author's last name \n",
    "    - `first`: VARCHAR author's first name initial\n",
    "    - `middle`: VARCHAR author's middle name initial (if any)\n",
    "    - `country`: VARCHAR author's affiliation country <---- NEEDED AUGMENTATION (OR GENDER!)\n",
    "    \n",
    "    \n",
    "- `journals`: includes all unique journals in which works were published\n",
    "    - PK `journal_id`: VARCHAR journal ID\n",
    "    - `issn`: VARCHAR journal ISSN\n",
    "    - `title`: VARCHAR journal title\n",
    "    - `if_latest`: FLOAT journal's latest Impact Factor\n",
    "    \n",
    "    \n",
    "- `time_dim`: includes publication-related data.\n",
    "    - PK `date`: DATE DD-M-YYYY\n",
    "    - `year`: INT year\n",
    "    - `month`: INT month"
   ]
  },
  {
   "cell_type": "markdown",
   "id": "86f1267f",
   "metadata": {},
   "source": [
    "### 2.1. Dimension: `time_dim`\n",
    "For this table, we extract the date (`DD-MM-YYYY`) as the ID, and we will extract the year of publication."
   ]
  },
  {
   "cell_type": "code",
   "execution_count": 3,
   "id": "ef55c353",
   "metadata": {},
   "outputs": [
    {
     "name": "stdout",
     "output_type": "stream",
     "text": [
      "Dimensions: (4428, 3)\n"
     ]
    },
    {
     "data": {
      "text/html": [
       "<div>\n",
       "<style scoped>\n",
       "    .dataframe tbody tr th:only-of-type {\n",
       "        vertical-align: middle;\n",
       "    }\n",
       "\n",
       "    .dataframe tbody tr th {\n",
       "        vertical-align: top;\n",
       "    }\n",
       "\n",
       "    .dataframe thead th {\n",
       "        text-align: right;\n",
       "    }\n",
       "</style>\n",
       "<table border=\"1\" class=\"dataframe\">\n",
       "  <thead>\n",
       "    <tr style=\"text-align: right;\">\n",
       "      <th></th>\n",
       "      <th>date</th>\n",
       "      <th>year</th>\n",
       "      <th>month</th>\n",
       "    </tr>\n",
       "  </thead>\n",
       "  <tbody>\n",
       "    <tr>\n",
       "      <th>0</th>\n",
       "      <td>2007-05-23</td>\n",
       "      <td>2007</td>\n",
       "      <td>05</td>\n",
       "    </tr>\n",
       "    <tr>\n",
       "      <th>1</th>\n",
       "      <td>2007-05-24</td>\n",
       "      <td>2007</td>\n",
       "      <td>05</td>\n",
       "    </tr>\n",
       "    <tr>\n",
       "      <th>2</th>\n",
       "      <td>2007-05-25</td>\n",
       "      <td>2007</td>\n",
       "      <td>05</td>\n",
       "    </tr>\n",
       "    <tr>\n",
       "      <th>3</th>\n",
       "      <td>2007-05-28</td>\n",
       "      <td>2007</td>\n",
       "      <td>05</td>\n",
       "    </tr>\n",
       "    <tr>\n",
       "      <th>4</th>\n",
       "      <td>2007-05-29</td>\n",
       "      <td>2007</td>\n",
       "      <td>05</td>\n",
       "    </tr>\n",
       "  </tbody>\n",
       "</table>\n",
       "</div>"
      ],
      "text/plain": [
       "         date  year month\n",
       "0  2007-05-23  2007    05\n",
       "1  2007-05-24  2007    05\n",
       "2  2007-05-25  2007    05\n",
       "3  2007-05-28  2007    05\n",
       "4  2007-05-29  2007    05"
      ]
     },
     "execution_count": 3,
     "metadata": {},
     "output_type": "execute_result"
    }
   ],
   "source": [
    "# Time_dim\n",
    "time_dim = pd.DataFrame({'date' : df['update_date'].unique()}) # rename the date variable and find unique dates\n",
    "time_dim['year'] = time_dim['date'].str.split('-', expand = True)[0] # extract the year\n",
    "time_dim['month'] =  time_dim['date'].str.split('-', expand = True)[1] # extract the month\n",
    "time_dim = time_dim.sort_values(by=['date']).reset_index(drop = True) # sort by date\n",
    "print(f'Dimensions: {time_dim.shape}')\n",
    "time_dim.head()"
   ]
  },
  {
   "cell_type": "markdown",
   "id": "05ad590a",
   "metadata": {},
   "source": [
    "### 2.2. Dimension: `journals`"
   ]
  },
  {
   "cell_type": "code",
   "execution_count": 4,
   "id": "6d081643",
   "metadata": {},
   "outputs": [
    {
     "data": {
      "text/html": [
       "<div>\n",
       "<style scoped>\n",
       "    .dataframe tbody tr th:only-of-type {\n",
       "        vertical-align: middle;\n",
       "    }\n",
       "\n",
       "    .dataframe tbody tr th {\n",
       "        vertical-align: top;\n",
       "    }\n",
       "\n",
       "    .dataframe thead th {\n",
       "        text-align: right;\n",
       "    }\n",
       "</style>\n",
       "<table border=\"1\" class=\"dataframe\">\n",
       "  <thead>\n",
       "    <tr style=\"text-align: right;\">\n",
       "      <th></th>\n",
       "      <th>journal_id</th>\n",
       "      <th>issn</th>\n",
       "      <th>title</th>\n",
       "      <th>if_latest</th>\n",
       "    </tr>\n",
       "  </thead>\n",
       "  <tbody>\n",
       "  </tbody>\n",
       "</table>\n",
       "</div>"
      ],
      "text/plain": [
       "Empty DataFrame\n",
       "Columns: [journal_id, issn, title, if_latest]\n",
       "Index: []"
      ]
     },
     "execution_count": 4,
     "metadata": {},
     "output_type": "execute_result"
    }
   ],
   "source": [
    "journals = pd.DataFrame(columns = ['journal_id', 'issn', 'title', 'if_latest'])\n",
    "journals.head()"
   ]
  },
  {
   "cell_type": "markdown",
   "id": "82199b77",
   "metadata": {},
   "source": [
    "### 2.3. Dimension: `authors`"
   ]
  },
  {
   "cell_type": "code",
   "execution_count": 5,
   "id": "ecee6d22",
   "metadata": {},
   "outputs": [
    {
     "data": {
      "text/html": [
       "<div>\n",
       "<style scoped>\n",
       "    .dataframe tbody tr th:only-of-type {\n",
       "        vertical-align: middle;\n",
       "    }\n",
       "\n",
       "    .dataframe tbody tr th {\n",
       "        vertical-align: top;\n",
       "    }\n",
       "\n",
       "    .dataframe thead th {\n",
       "        text-align: right;\n",
       "    }\n",
       "</style>\n",
       "<table border=\"1\" class=\"dataframe\">\n",
       "  <thead>\n",
       "    <tr style=\"text-align: right;\">\n",
       "      <th></th>\n",
       "      <th>author_id</th>\n",
       "      <th>lastname</th>\n",
       "      <th>first</th>\n",
       "      <th>middle</th>\n",
       "      <th>country</th>\n",
       "    </tr>\n",
       "  </thead>\n",
       "  <tbody>\n",
       "  </tbody>\n",
       "</table>\n",
       "</div>"
      ],
      "text/plain": [
       "Empty DataFrame\n",
       "Columns: [author_id, lastname, first, middle, country]\n",
       "Index: []"
      ]
     },
     "execution_count": 5,
     "metadata": {},
     "output_type": "execute_result"
    }
   ],
   "source": [
    "authors = pd.DataFrame(columns = ['author_id', 'lastname', 'first', 'middle', 'country'])\n",
    "authors.head()"
   ]
  },
  {
   "cell_type": "markdown",
   "id": "55199f08",
   "metadata": {},
   "source": [
    "### 2.4. Fact: `articles`"
   ]
  },
  {
   "cell_type": "code",
   "execution_count": 17,
   "id": "e6ded151",
   "metadata": {},
   "outputs": [
    {
     "data": {
      "text/html": [
       "<div>\n",
       "<style scoped>\n",
       "    .dataframe tbody tr th:only-of-type {\n",
       "        vertical-align: middle;\n",
       "    }\n",
       "\n",
       "    .dataframe tbody tr th {\n",
       "        vertical-align: top;\n",
       "    }\n",
       "\n",
       "    .dataframe thead th {\n",
       "        text-align: right;\n",
       "    }\n",
       "</style>\n",
       "<table border=\"1\" class=\"dataframe\">\n",
       "  <thead>\n",
       "    <tr style=\"text-align: right;\">\n",
       "      <th></th>\n",
       "      <th>article_id</th>\n",
       "      <th>title</th>\n",
       "      <th>doi</th>\n",
       "      <th>n_authors</th>\n",
       "      <th>journal_issn</th>\n",
       "      <th>authors</th>\n",
       "      <th>date</th>\n",
       "      <th>n_cites</th>\n",
       "    </tr>\n",
       "  </thead>\n",
       "  <tbody>\n",
       "    <tr>\n",
       "      <th>0</th>\n",
       "      <td>0704.0001</td>\n",
       "      <td>Calculation of prompt diphoton production cros...</td>\n",
       "      <td>10.1103/PhysRevD.76.013009</td>\n",
       "      <td>4</td>\n",
       "      <td>NaN</td>\n",
       "      <td>NaN</td>\n",
       "      <td>2008-11-26</td>\n",
       "      <td>NaN</td>\n",
       "    </tr>\n",
       "    <tr>\n",
       "      <th>1</th>\n",
       "      <td>0704.0006</td>\n",
       "      <td>Bosonic characters of atomic Cooper pairs acro...</td>\n",
       "      <td>10.1103/PhysRevA.75.043613</td>\n",
       "      <td>2</td>\n",
       "      <td>NaN</td>\n",
       "      <td>NaN</td>\n",
       "      <td>2015-05-13</td>\n",
       "      <td>NaN</td>\n",
       "    </tr>\n",
       "    <tr>\n",
       "      <th>2</th>\n",
       "      <td>0704.0007</td>\n",
       "      <td>Polymer Quantum Mechanics and its Continuum Limit</td>\n",
       "      <td>10.1103/PhysRevD.76.044016</td>\n",
       "      <td>3</td>\n",
       "      <td>NaN</td>\n",
       "      <td>NaN</td>\n",
       "      <td>2008-11-26</td>\n",
       "      <td>NaN</td>\n",
       "    </tr>\n",
       "    <tr>\n",
       "      <th>3</th>\n",
       "      <td>0704.0008</td>\n",
       "      <td>Numerical solution of shock and ramp compressi...</td>\n",
       "      <td>10.1063/1.2975338</td>\n",
       "      <td>1</td>\n",
       "      <td>NaN</td>\n",
       "      <td>NaN</td>\n",
       "      <td>2009-02-05</td>\n",
       "      <td>NaN</td>\n",
       "    </tr>\n",
       "    <tr>\n",
       "      <th>4</th>\n",
       "      <td>0704.0009</td>\n",
       "      <td>The Spitzer c2d Survey of Large, Nearby, Inste...</td>\n",
       "      <td>10.1086/518646</td>\n",
       "      <td>7</td>\n",
       "      <td>NaN</td>\n",
       "      <td>NaN</td>\n",
       "      <td>2010-03-18</td>\n",
       "      <td>NaN</td>\n",
       "    </tr>\n",
       "  </tbody>\n",
       "</table>\n",
       "</div>"
      ],
      "text/plain": [
       "  article_id                                              title  \\\n",
       "0  0704.0001  Calculation of prompt diphoton production cros...   \n",
       "1  0704.0006  Bosonic characters of atomic Cooper pairs acro...   \n",
       "2  0704.0007  Polymer Quantum Mechanics and its Continuum Limit   \n",
       "3  0704.0008  Numerical solution of shock and ramp compressi...   \n",
       "4  0704.0009  The Spitzer c2d Survey of Large, Nearby, Inste...   \n",
       "\n",
       "                          doi  n_authors journal_issn authors        date  \\\n",
       "0  10.1103/PhysRevD.76.013009          4          NaN     NaN  2008-11-26   \n",
       "1  10.1103/PhysRevA.75.043613          2          NaN     NaN  2015-05-13   \n",
       "2  10.1103/PhysRevD.76.044016          3          NaN     NaN  2008-11-26   \n",
       "3           10.1063/1.2975338          1          NaN     NaN  2009-02-05   \n",
       "4              10.1086/518646          7          NaN     NaN  2010-03-18   \n",
       "\n",
       "  n_cites  \n",
       "0     NaN  \n",
       "1     NaN  \n",
       "2     NaN  \n",
       "3     NaN  \n",
       "4     NaN  "
      ]
     },
     "execution_count": 17,
     "metadata": {},
     "output_type": "execute_result"
    }
   ],
   "source": [
    "articles = pd.DataFrame(columns = ['article_id', 'title', 'doi', 'n_authors', 'journal_issn', 'authors', 'date', 'n_cites'])\n",
    "articles.head()\n",
    "articles['article_id'] = df['id']\n",
    "articles['title'] = df['title']\n",
    "articles['doi'] = df['doi']\n",
    "articles['n_authors'] = df['authors_parsed'].str.len() # get the number of authors\n",
    "articles['date'] = df['update_date']\n",
    "\n",
    "articles.head()"
   ]
  },
  {
   "cell_type": "code",
   "execution_count": 18,
   "id": "1e36196d",
   "metadata": {},
   "outputs": [
    {
     "data": {
      "text/plain": [
       "(1077226, 8)"
      ]
     },
     "execution_count": 18,
     "metadata": {},
     "output_type": "execute_result"
    }
   ],
   "source": [
    "articles.shape"
   ]
  },
  {
   "cell_type": "markdown",
   "id": "2ad23f30",
   "metadata": {},
   "source": [
    "## 3. Data Augmentation\n",
    "In this section, [an API] (Google Scholar? CrossRef?) is used to retrieve the data of papers based on DOI. We are fetching the number of citations per each paper as well as journal ISSN to the `articles` table, and journal ISSN and journal name to `journals` table.\n",
    "\n",
    "First, the empty dataframes are created for incomplete tables. Then, API queries are made to update the `articles` table. Because the query should, in theory, allow for retrieving also the journal title and author list, it should be possible to update those tables, too.\n",
    "\n",
    "With regards to `journals`, one approach would be to do the following:\n",
    "\n",
    "1. The API query is made based on DOI\n",
    "2. Journal ISSN is saved to the `articles` table\n",
    "3. Journal ISSN and title are saved into a separate structure (e.g., two lists with matching indices, or a dataframe).\n",
    "4. Once the queries are completed, duplicates from `journals` table are removed.\n",
    "\n",
    "With `authors`, it is trickier. Since the original dataset includes quite messy data (e.g., in some cases there are full names, in some cases only given name initials), it would make sense to fetch the names of authors, in standardized form, from the API query. A brute-force solution would be as follows:\n",
    "\n",
    "1. The API query is made based on DOI\n",
    "2. Two data structures are saved (either two lists with mathching indices or a pandas dataframe) where first structure marks the `article_id` and the second column, say, `authors_ids`, is a list with authors. Alternatively, it would be possible to save this as a long data format where `article_id` is repeated for each individual `author_name`.\n",
    "3. Once the authors are fetched, names should be normalized ('cleaned').\n",
    "4. Unique names are extracted.\n",
    "5. Each unique author is assigned an ID.\n",
    "6. Update the table `articles` with the list of author IDs.\n",
    "\n",
    "For testing out these solutions, it may be a good idea to sample some rows from the entire df and run the queries on those rows."
   ]
  },
  {
   "cell_type": "code",
   "execution_count": 13,
   "id": "b8a3d687",
   "metadata": {
    "scrolled": true
   },
   "outputs": [
    {
     "data": {
      "text/html": [
       "<div>\n",
       "<style scoped>\n",
       "    .dataframe tbody tr th:only-of-type {\n",
       "        vertical-align: middle;\n",
       "    }\n",
       "\n",
       "    .dataframe tbody tr th {\n",
       "        vertical-align: top;\n",
       "    }\n",
       "\n",
       "    .dataframe thead th {\n",
       "        text-align: right;\n",
       "    }\n",
       "</style>\n",
       "<table border=\"1\" class=\"dataframe\">\n",
       "  <thead>\n",
       "    <tr style=\"text-align: right;\">\n",
       "      <th></th>\n",
       "      <th>article_id</th>\n",
       "      <th>title</th>\n",
       "      <th>doi</th>\n",
       "      <th>journal_issn</th>\n",
       "      <th>authors</th>\n",
       "      <th>date</th>\n",
       "      <th>n_cites</th>\n",
       "    </tr>\n",
       "  </thead>\n",
       "  <tbody>\n",
       "    <tr>\n",
       "      <th>0</th>\n",
       "      <td>0802.0877</td>\n",
       "      <td>The shapes of galaxies in the Sloan Digital Sk...</td>\n",
       "      <td>10.1111/j.1365-2966.2008.13480.x</td>\n",
       "      <td>NaN</td>\n",
       "      <td>NaN</td>\n",
       "      <td>2008-12-18</td>\n",
       "      <td>NaN</td>\n",
       "    </tr>\n",
       "    <tr>\n",
       "      <th>1</th>\n",
       "      <td>1410.3541</td>\n",
       "      <td>Memcomputing with membrane memcapacitive systems</td>\n",
       "      <td>10.1088/0957-4484/26/22/225201</td>\n",
       "      <td>NaN</td>\n",
       "      <td>NaN</td>\n",
       "      <td>2015-07-09</td>\n",
       "      <td>NaN</td>\n",
       "    </tr>\n",
       "    <tr>\n",
       "      <th>2</th>\n",
       "      <td>astro-ph/0401289</td>\n",
       "      <td>The European Large Area ISO Survey IX: the 90 ...</td>\n",
       "      <td>10.1111/j.1365-2966.2004.08358.x</td>\n",
       "      <td>NaN</td>\n",
       "      <td>NaN</td>\n",
       "      <td>2009-11-10</td>\n",
       "      <td>NaN</td>\n",
       "    </tr>\n",
       "  </tbody>\n",
       "</table>\n",
       "</div>"
      ],
      "text/plain": [
       "         article_id                                              title  \\\n",
       "0         0802.0877  The shapes of galaxies in the Sloan Digital Sk...   \n",
       "1         1410.3541   Memcomputing with membrane memcapacitive systems   \n",
       "2  astro-ph/0401289  The European Large Area ISO Survey IX: the 90 ...   \n",
       "\n",
       "                                doi journal_issn authors        date n_cites  \n",
       "0  10.1111/j.1365-2966.2008.13480.x          NaN     NaN  2008-12-18     NaN  \n",
       "1    10.1088/0957-4484/26/22/225201          NaN     NaN  2015-07-09     NaN  \n",
       "2  10.1111/j.1365-2966.2004.08358.x          NaN     NaN  2009-11-10     NaN  "
      ]
     },
     "execution_count": 13,
     "metadata": {},
     "output_type": "execute_result"
    }
   ],
   "source": [
    "# Sample a df of size N \n",
    "N = 50\n",
    "test_df = articles.sample(N).reset_index(drop = True)\n",
    "\n",
    "# Head of the df\n",
    "test_df.head(3)"
   ]
  },
  {
   "cell_type": "code",
   "execution_count": null,
   "id": "e29a1e4a",
   "metadata": {},
   "outputs": [],
   "source": []
  },
  {
   "cell_type": "code",
   "execution_count": null,
   "id": "335947f7",
   "metadata": {
    "scrolled": true
   },
   "outputs": [],
   "source": [
    "## Testing the crossref API\n",
    "author_papers = pd.DataFrame(columns = ['article_id', 'author_family', 'author_given'])\n",
    "author_papers.head()\n",
    "\n",
    "ids = []\n",
    "author_list = []\n",
    "for i in range(len(test_df)):\n",
    "    qry_rslt = cr.works(ids = test_df['doi'][i])['message'] # query result\n",
    "    \n",
    "    if qry_rslt['type'] == 'journal-article': # select only journal articles\n",
    "#        qry_rslt = cr.works(ids = test_df['doi'][i])['message'] # querying the DOI via the CrossRef API\n",
    "        test_df['n_cites'][i] = qry_rslt['reference-count'] # citation count\n",
    "        test_df['journal_issn'][i] = qry_rslt['ISSN'][0] # get the only ISSN OR the print ISSN\n",
    "        \n",
    "      #  author_list = pd.Series(qry_rslt['author'])\n",
    "      #  ids.append(test_df['article_id'][i])\n",
    "      #  author_list = qry_rslt['author']\n",
    "        \n",
    "    else:\n",
    "        pass"
   ]
  }
 ],
 "metadata": {
  "kernelspec": {
   "display_name": "Python 3 (ipykernel)",
   "language": "python",
   "name": "python3"
  },
  "language_info": {
   "codemirror_mode": {
    "name": "ipython",
    "version": 3
   },
   "file_extension": ".py",
   "mimetype": "text/x-python",
   "name": "python",
   "nbconvert_exporter": "python",
   "pygments_lexer": "ipython3",
   "version": "3.10.4"
  }
 },
 "nbformat": 4,
 "nbformat_minor": 5
}
